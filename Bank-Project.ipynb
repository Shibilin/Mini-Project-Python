{
 "cells": [
  {
   "cell_type": "code",
   "execution_count": 5,
   "id": "91f899ee-243e-4531-8668-03b106bfca72",
   "metadata": {},
   "outputs": [
    {
     "name": "stdout",
     "output_type": "stream",
     "text": [
      "\n",
      "Welcome to the Banking System!\n",
      "1. Create Account\n",
      "2. Login\n",
      "3. Exit\n"
     ]
    },
    {
     "name": "stdin",
     "output_type": "stream",
     "text": [
      "Choose an option:  1\n",
      "Enter account number:  8157901234\n",
      "Enter password:  1234\n"
     ]
    },
    {
     "name": "stdout",
     "output_type": "stream",
     "text": [
      "Your account has been created successfully!\n",
      "Account Number: 8157901234\n",
      "\n",
      "Welcome to the Banking System!\n",
      "1. Create Account\n",
      "2. Login\n",
      "3. Exit\n"
     ]
    },
    {
     "name": "stdin",
     "output_type": "stream",
     "text": [
      "Choose an option:  2\n",
      "Enter your account number:  8157901234\n",
      "Enter your password:  1234\n"
     ]
    },
    {
     "name": "stdout",
     "output_type": "stream",
     "text": [
      "Login successful!\n",
      "\n",
      "Account Menu:\n",
      "1. Deposit\n",
      "2. Withdraw\n",
      "3. Check Balance\n",
      "4. View Transaction History\n",
      "5. Logout\n"
     ]
    },
    {
     "name": "stdin",
     "output_type": "stream",
     "text": [
      "Choose an action:  1\n",
      "Enter amount to deposit:  10000\n"
     ]
    },
    {
     "name": "stdout",
     "output_type": "stream",
     "text": [
      "You have deposited 10000.00. Your current balance is 10000.00.\n",
      "Thank you for using LinNx Banking.\n",
      "\n",
      "Account Menu:\n",
      "1. Deposit\n",
      "2. Withdraw\n",
      "3. Check Balance\n",
      "4. View Transaction History\n",
      "5. Logout\n"
     ]
    },
    {
     "name": "stdin",
     "output_type": "stream",
     "text": [
      "Choose an action:  2\n",
      "Enter amount to withdraw:  5000\n"
     ]
    },
    {
     "name": "stdout",
     "output_type": "stream",
     "text": [
      "You have withdrawn 5000.00. Your current balance is 5000.00.\n",
      "Thank you for using LinNx Banking.\n",
      "\n",
      "Account Menu:\n",
      "1. Deposit\n",
      "2. Withdraw\n",
      "3. Check Balance\n",
      "4. View Transaction History\n",
      "5. Logout\n"
     ]
    },
    {
     "name": "stdin",
     "output_type": "stream",
     "text": [
      "Choose an action:  3\n"
     ]
    },
    {
     "name": "stdout",
     "output_type": "stream",
     "text": [
      "Your current balance is 5000.00.\n",
      "\n",
      "Account Menu:\n",
      "1. Deposit\n",
      "2. Withdraw\n",
      "3. Check Balance\n",
      "4. View Transaction History\n",
      "5. Logout\n"
     ]
    },
    {
     "name": "stdin",
     "output_type": "stream",
     "text": [
      "Choose an action:  4\n"
     ]
    },
    {
     "name": "stdout",
     "output_type": "stream",
     "text": [
      "Your deposit history:\n",
      "You have deposited 10000.00.\n",
      "Your withdrawal history:\n",
      "You have withdrawn 5000.00.\n",
      "\n",
      "Account Menu:\n",
      "1. Deposit\n",
      "2. Withdraw\n",
      "3. Check Balance\n",
      "4. View Transaction History\n",
      "5. Logout\n"
     ]
    },
    {
     "name": "stdin",
     "output_type": "stream",
     "text": [
      "Choose an action:  5\n"
     ]
    },
    {
     "name": "stdout",
     "output_type": "stream",
     "text": [
      "Logged out successfully!\n",
      "\n",
      "Welcome to the Banking System!\n",
      "1. Create Account\n",
      "2. Login\n",
      "3. Exit\n"
     ]
    },
    {
     "name": "stdin",
     "output_type": "stream",
     "text": [
      "Choose an option:  3\n"
     ]
    },
    {
     "name": "stdout",
     "output_type": "stream",
     "text": [
      "Thank you for using the LinNx Banking System!\n"
     ]
    }
   ],
   "source": [
    "class LinNxBank:\n",
    "    def __init__(self, account_number, password):\n",
    "        self.account_number = account_number\n",
    "        self.password = password\n",
    "        self.balance = 0.0\n",
    "        self.deposit_history = []\n",
    "        self.withdrawal_history = []\n",
    "\n",
    "    # Defining deposit detail\n",
    "    def deposit(self, amount):\n",
    "        if amount > 0:\n",
    "            self.balance += amount\n",
    "            self.deposit_history.append(amount)\n",
    "            print(f\"You have deposited {amount:.2f}. Your current balance is {self.balance:.2f}.\")\n",
    "            print(\"Thank you for using LinNx Banking.\")\n",
    "        else:\n",
    "            print(\"Your deposit must be a positive amount. Thank you.\")\n",
    "\n",
    "    # Defining withdrawal detail\n",
    "    def withdrawal(self, amount):\n",
    "        if amount > 0 and amount <= self.balance:\n",
    "            self.balance -= amount\n",
    "            self.withdrawal_history.append(amount)\n",
    "            print(f\"You have withdrawn {amount:.2f}. Your current balance is {self.balance:.2f}.\")\n",
    "            print(\"Thank you for using LinNx Banking.\")\n",
    "        else:\n",
    "            print(\"Insufficient funds. Please try again.\")\n",
    "\n",
    "    # For checking the balance\n",
    "    def bank_balance(self):\n",
    "        print(f\"Your current balance is {self.balance:.2f}.\")\n",
    "\n",
    "    # For transaction history\n",
    "    def history(self):\n",
    "        print(\"Your deposit history:\")\n",
    "        for i in self.deposit_history:\n",
    "            print(f\"You have deposited {i:.2f}.\")\n",
    "\n",
    "        print(\"Your withdrawal history:\")\n",
    "        for i in self.withdrawal_history:\n",
    "            print(f\"You have withdrawn {i:.2f}.\")\n",
    "\n",
    "# Defining a new class for creating an account for customers\n",
    "class System:\n",
    "    def __init__(self):\n",
    "        self.accounts = {}\n",
    "\n",
    "    def create_account(self, account_number, password):\n",
    "        if account_number not in self.accounts:\n",
    "            self.accounts[account_number] = LinNxBank(account_number, password)\n",
    "            print(\"Your account has been created successfully!\")\n",
    "            print(f\"Account Number: {account_number}\")\n",
    "        else:\n",
    "            print(\"Account already exists!\")\n",
    "\n",
    "    # For user online login\n",
    "    def login(self, account_number, password):\n",
    "        account = self.accounts.get(account_number)\n",
    "        if account and account.password == password:\n",
    "            print(\"Login successful!\")\n",
    "            return account\n",
    "        else:\n",
    "            print(\"Invalid account number or password! Please enter a valid one.\")\n",
    "            return None\n",
    "\n",
    "#User Interference\n",
    "def main():\n",
    "    bank_system = System()\n",
    "\n",
    "    while True:\n",
    "        print(\"\\nWelcome to the Banking System!\")\n",
    "        print(\"1. Create Account\")\n",
    "        print(\"2. Login\")\n",
    "        print(\"3. Exit\")\n",
    "\n",
    "        choice = input(\"Choose an option: \")\n",
    "        \n",
    "        if choice == \"1\":\n",
    "            account_number = input(\"Enter account number: \")\n",
    "            password = input(\"Enter password: \")\n",
    "            bank_system.create_account(account_number, password)\n",
    "        \n",
    "        elif choice == \"2\":\n",
    "            account_number = input(\"Enter your account number: \")\n",
    "            password = input(\"Enter your password: \")\n",
    "            account = bank_system.login(account_number, password)\n",
    "\n",
    "            if account:\n",
    "                while True:\n",
    "                    print(\"\\nAccount Menu:\")\n",
    "                    print(\"1. Deposit\")\n",
    "                    print(\"2. Withdraw\")\n",
    "                    print(\"3. Check Balance\")\n",
    "                    print(\"4. View Transaction History\")\n",
    "                    print(\"5. Logout\")\n",
    "\n",
    "                    action = input(\"Choose an action: \")\n",
    "\n",
    "                    if action == \"1\":\n",
    "                        amount = float(input(\"Enter amount to deposit: \"))\n",
    "                        account.deposit(amount)\n",
    "\n",
    "                    elif action == \"2\":\n",
    "                        amount = float(input(\"Enter amount to withdraw: \"))\n",
    "                        account.withdrawal(amount)\n",
    "\n",
    "                    elif action == \"3\":\n",
    "                        account.bank_balance()\n",
    "\n",
    "                    elif action == \"4\":\n",
    "                        account.history() \n",
    "\n",
    "                    elif action == \"5\":\n",
    "                        print(\"Logged out successfully!\")\n",
    "                        break\n",
    "\n",
    "                    else:\n",
    "                        print(\"Invalid action! Please try again.\")\n",
    "\n",
    "        elif choice == \"3\":\n",
    "            print(\"Thank you for using the LinNx Banking System!\")\n",
    "            break\n",
    "\n",
    "        else:\n",
    "            print(\"Invalid choice! Please try again.\")\n",
    "\n",
    "\n",
    "main()"
   ]
  },
  {
   "cell_type": "code",
   "execution_count": null,
   "id": "f077a524-f795-46bd-b470-dcd30237a9ac",
   "metadata": {},
   "outputs": [],
   "source": []
  }
 ],
 "metadata": {
  "kernelspec": {
   "display_name": "Python 3 (ipykernel)",
   "language": "python",
   "name": "python3"
  },
  "language_info": {
   "codemirror_mode": {
    "name": "ipython",
    "version": 3
   },
   "file_extension": ".py",
   "mimetype": "text/x-python",
   "name": "python",
   "nbconvert_exporter": "python",
   "pygments_lexer": "ipython3",
   "version": "3.12.4"
  }
 },
 "nbformat": 4,
 "nbformat_minor": 5
}
